{
 "cells": [
  {
   "cell_type": "code",
   "execution_count": 80,
   "metadata": {
    "collapsed": false
   },
   "outputs": [],
   "source": [
    "# -*- coding: utf-8 -*-\n",
    "import pyws as pyws\n",
    "import winxpgui"
   ]
  },
  {
   "cell_type": "code",
   "execution_count": 89,
   "metadata": {
    "collapsed": false
   },
   "outputs": [],
   "source": [
    "def clickcard(changeflag):\n",
    "    windowinfo = getwindowinfo()\n",
    "    if windowinfo == False:\n",
    "        return(False)\n",
    "    x = windowinfo[0]\n",
    "    y = windowinfo[1]\n",
    "    sgain = windowinfo[2]\n",
    "    for i in range(0,5):\n",
    "        if changeflag[i] == 1:\n",
    "            pyws.click(int(x+(i-2)*55*sgain),int(y+260*sgain),0)\n",
    "    return(True)"
   ]
  },
  {
   "cell_type": "code",
   "execution_count": 82,
   "metadata": {
    "collapsed": true
   },
   "outputs": [],
   "source": [
    "def clickleft():\n",
    "    windowinfo = getwindowinfo()\n",
    "    if windowinfo == False:\n",
    "        return(False)\n",
    "    x = windowinfo[0]\n",
    "    y = windowinfo[1]\n",
    "    sgain = windowinfo[2]\n",
    "    pyws.mmv(int(x-50*sgain),int(y+400*sgain))#for test\n",
    "    #pyws.click(int(x-50*sgain),int(y+400*sgain),0)#use"
   ]
  },
  {
   "cell_type": "code",
   "execution_count": 83,
   "metadata": {
    "collapsed": true
   },
   "outputs": [],
   "source": [
    "def clickright():\n",
    "    windowinfo = getwindowinfo()\n",
    "    if windowinfo == False:\n",
    "        return(False)\n",
    "    x = windowinfo[0]\n",
    "    y = windowinfo[1]\n",
    "    sgain = windowinfo[2]\n",
    "    pyws.mmv(int(x+50*sgain),int(y+400*sgain))#for test\n",
    "    #pyws.click(int(x+50*sgain),int(y+400*sgain),0)#use"
   ]
  },
  {
   "cell_type": "code",
   "execution_count": 84,
   "metadata": {
    "collapsed": false
   },
   "outputs": [],
   "source": [
    "def clickcenter():\n",
    "    windowinfo = getwindowinfo()\n",
    "    if windowinfo == False:\n",
    "        return(False)\n",
    "    x = windowinfo[0]\n",
    "    y = windowinfo[1]\n",
    "    sgain = windowinfo[2]\n",
    "    pyws.mmv(int(x),int(y+400*sgain))#for test\n",
    "    #pyws.click(int(x),int(y+400*sgain),0)#use"
   ]
  },
  {
   "cell_type": "code",
   "execution_count": 107,
   "metadata": {
    "collapsed": false
   },
   "outputs": [],
   "source": [
    "def getwindowinfo():\n",
    "    try:\n",
    "        hwnd = pyws.getid(\"グランブルーファンタジー[ChromeApps版]\",0)\n",
    "    except:\n",
    "        print(\"no window\")\n",
    "        return(False)\n",
    "    print(hwnd)\n",
    "    rect = winxpgui.GetWindowRect(hwnd)\n",
    "    size = winxpgui.GetClientRect(hwnd)\n",
    "    place = winxpgui.GetWindowPlacement(hwnd)\n",
    "    if place[1]!=1:\n",
    "        return(False)\n",
    "    print(size)\n",
    "    #if size[2]\n",
    "    x = rect[0]+size[2]/2\n",
    "    y = rect[1]\n",
    "    if size[2] == 350:\n",
    "        sgain = 1\n",
    "    elif size[2] == 510:\n",
    "        sgain = 1.46\n",
    "    elif size[2] == 670:\n",
    "        sgain = 1.9\n",
    "    windowinfo = (x, y, sgain)\n",
    "    return(windowinfo)"
   ]
  },
  {
   "cell_type": "code",
   "execution_count": 111,
   "metadata": {
    "collapsed": false
   },
   "outputs": [
    {
     "name": "stdout",
     "output_type": "stream",
     "text": [
      "2623388\n"
     ]
    }
   ],
   "source": [
    "def main():\n",
    "    #test 1\n",
    "    #changeflag=(1,1,1,1,1)\n",
    "    #clickcard(changeflag)\n",
    "    \n",
    "    #test 2\n",
    "    clickcenter()\n",
    "    \n",
    "    #test 3\n",
    "    #clickleft()\n",
    "    \n",
    "    #test 4\n",
    "    #clickright()\n",
    "    \n",
    "if __name__ == \"__main__\":\n",
    "    main()"
   ]
  }
 ],
 "metadata": {
  "kernelspec": {
   "display_name": "Python 3",
   "language": "python",
   "name": "python3"
  },
  "language_info": {
   "codemirror_mode": {
    "name": "ipython",
    "version": 3
   },
   "file_extension": ".py",
   "mimetype": "text/x-python",
   "name": "python",
   "nbconvert_exporter": "python",
   "pygments_lexer": "ipython3",
   "version": "3.5.1"
  }
 },
 "nbformat": 4,
 "nbformat_minor": 0
}
